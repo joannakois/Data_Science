{
  "nbformat": 4,
  "nbformat_minor": 0,
  "metadata": {
    "colab": {
      "name": "Summer_olimpic_medals.ipynb",
      "provenance": [],
      "collapsed_sections": [],
      "authorship_tag": "ABX9TyPrnysgixwS/eirEWQomhTp",
      "include_colab_link": true
    },
    "kernelspec": {
      "name": "python3",
      "display_name": "Python 3"
    }
  },
  "cells": [
    {
      "cell_type": "markdown",
      "metadata": {
        "id": "view-in-github",
        "colab_type": "text"
      },
      "source": [
        "<a href=\"https://colab.research.google.com/github/joannakois/Data_Science/blob/master/Summer_olimpic_medals.ipynb\" target=\"_parent\"><img src=\"https://colab.research.google.com/assets/colab-badge.svg\" alt=\"Open In Colab\"/></a>"
      ]
    },
    {
      "cell_type": "markdown",
      "metadata": {
        "id": "nLklHEmEWIlV",
        "colab_type": "text"
      },
      "source": [
        "# 0. Import pakietów"
      ]
    },
    {
      "cell_type": "code",
      "metadata": {
        "id": "SMOOtZksV-le",
        "colab_type": "code",
        "colab": {}
      },
      "source": [
        "import numpy as np\n",
        "import pandas as pd\n",
        "import matplotlib.pyplot as plt\n",
        "import folium\n",
        "from IPython.display import display"
      ],
      "execution_count": 15,
      "outputs": []
    },
    {
      "cell_type": "markdown",
      "metadata": {
        "id": "BtiLnR_kWRTc",
        "colab_type": "text"
      },
      "source": [
        "# 1. Wczytanie danych"
      ]
    },
    {
      "cell_type": "code",
      "metadata": {
        "id": "PYiU3RrQWdrs",
        "colab_type": "code",
        "colab": {}
      },
      "source": [
        "df = pd.read_csv(\"Summer-Olympic-medals-1976-to-2008.csv\", engine='python')"
      ],
      "execution_count": 2,
      "outputs": []
    },
    {
      "cell_type": "markdown",
      "metadata": {
        "id": "yvlA-xxBZYFO",
        "colab_type": "text"
      },
      "source": [
        "# 2. Wstępna eksploracja danych"
      ]
    },
    {
      "cell_type": "code",
      "metadata": {
        "id": "SN7ZF2Y8Y0GO",
        "colab_type": "code",
        "colab": {
          "base_uri": "https://localhost:8080/",
          "height": 202
        },
        "outputId": "244c853a-1c3a-4e91-f4e6-66680e69c326"
      },
      "source": [
        "df.head()"
      ],
      "execution_count": 3,
      "outputs": [
        {
          "output_type": "execute_result",
          "data": {
            "text/html": [
              "<div>\n",
              "<style scoped>\n",
              "    .dataframe tbody tr th:only-of-type {\n",
              "        vertical-align: middle;\n",
              "    }\n",
              "\n",
              "    .dataframe tbody tr th {\n",
              "        vertical-align: top;\n",
              "    }\n",
              "\n",
              "    .dataframe thead th {\n",
              "        text-align: right;\n",
              "    }\n",
              "</style>\n",
              "<table border=\"1\" class=\"dataframe\">\n",
              "  <thead>\n",
              "    <tr style=\"text-align: right;\">\n",
              "      <th></th>\n",
              "      <th>City</th>\n",
              "      <th>Year</th>\n",
              "      <th>Sport</th>\n",
              "      <th>Discipline</th>\n",
              "      <th>Event</th>\n",
              "      <th>Athlete</th>\n",
              "      <th>Gender</th>\n",
              "      <th>Country_Code</th>\n",
              "      <th>Country</th>\n",
              "      <th>Event_gender</th>\n",
              "      <th>Medal</th>\n",
              "    </tr>\n",
              "  </thead>\n",
              "  <tbody>\n",
              "    <tr>\n",
              "      <th>0</th>\n",
              "      <td>Montreal</td>\n",
              "      <td>1976.0</td>\n",
              "      <td>Aquatics</td>\n",
              "      <td>Diving</td>\n",
              "      <td>3m springboard</td>\n",
              "      <td>K�HLER, Christa</td>\n",
              "      <td>Women</td>\n",
              "      <td>GDR</td>\n",
              "      <td>East Germany</td>\n",
              "      <td>W</td>\n",
              "      <td>Silver</td>\n",
              "    </tr>\n",
              "    <tr>\n",
              "      <th>1</th>\n",
              "      <td>Montreal</td>\n",
              "      <td>1976.0</td>\n",
              "      <td>Aquatics</td>\n",
              "      <td>Diving</td>\n",
              "      <td>3m springboard</td>\n",
              "      <td>KOSENKOV, Aleksandr</td>\n",
              "      <td>Men</td>\n",
              "      <td>URS</td>\n",
              "      <td>Soviet Union</td>\n",
              "      <td>M</td>\n",
              "      <td>Bronze</td>\n",
              "    </tr>\n",
              "    <tr>\n",
              "      <th>2</th>\n",
              "      <td>Montreal</td>\n",
              "      <td>1976.0</td>\n",
              "      <td>Aquatics</td>\n",
              "      <td>Diving</td>\n",
              "      <td>3m springboard</td>\n",
              "      <td>BOGGS, Philip George</td>\n",
              "      <td>Men</td>\n",
              "      <td>USA</td>\n",
              "      <td>United States</td>\n",
              "      <td>M</td>\n",
              "      <td>Gold</td>\n",
              "    </tr>\n",
              "    <tr>\n",
              "      <th>3</th>\n",
              "      <td>Montreal</td>\n",
              "      <td>1976.0</td>\n",
              "      <td>Aquatics</td>\n",
              "      <td>Diving</td>\n",
              "      <td>3m springboard</td>\n",
              "      <td>CAGNOTTO, Giorgio Franco</td>\n",
              "      <td>Men</td>\n",
              "      <td>ITA</td>\n",
              "      <td>Italy</td>\n",
              "      <td>M</td>\n",
              "      <td>Silver</td>\n",
              "    </tr>\n",
              "    <tr>\n",
              "      <th>4</th>\n",
              "      <td>Montreal</td>\n",
              "      <td>1976.0</td>\n",
              "      <td>Aquatics</td>\n",
              "      <td>Diving</td>\n",
              "      <td>10m platform</td>\n",
              "      <td>WILSON, Deborah Keplar</td>\n",
              "      <td>Women</td>\n",
              "      <td>USA</td>\n",
              "      <td>United States</td>\n",
              "      <td>W</td>\n",
              "      <td>Bronze</td>\n",
              "    </tr>\n",
              "  </tbody>\n",
              "</table>\n",
              "</div>"
            ],
            "text/plain": [
              "       City    Year     Sport  ...        Country Event_gender   Medal\n",
              "0  Montreal  1976.0  Aquatics  ...   East Germany            W  Silver\n",
              "1  Montreal  1976.0  Aquatics  ...   Soviet Union            M  Bronze\n",
              "2  Montreal  1976.0  Aquatics  ...  United States            M    Gold\n",
              "3  Montreal  1976.0  Aquatics  ...          Italy            M  Silver\n",
              "4  Montreal  1976.0  Aquatics  ...  United States            W  Bronze\n",
              "\n",
              "[5 rows x 11 columns]"
            ]
          },
          "metadata": {
            "tags": []
          },
          "execution_count": 3
        }
      ]
    },
    {
      "cell_type": "code",
      "metadata": {
        "id": "cSswUZo-ZAlU",
        "colab_type": "code",
        "colab": {
          "base_uri": "https://localhost:8080/",
          "height": 34
        },
        "outputId": "ece9aa58-dcd4-493c-e242-1db7eeb7eac8"
      },
      "source": [
        "df.shape"
      ],
      "execution_count": 4,
      "outputs": [
        {
          "output_type": "execute_result",
          "data": {
            "text/plain": [
              "(15433, 11)"
            ]
          },
          "metadata": {
            "tags": []
          },
          "execution_count": 4
        }
      ]
    },
    {
      "cell_type": "code",
      "metadata": {
        "id": "oWZmbFfBaAKk",
        "colab_type": "code",
        "colab": {
          "base_uri": "https://localhost:8080/",
          "height": 225
        },
        "outputId": "b39d474c-9be9-4d30-9452-672c1feef663"
      },
      "source": [
        "# Sprawdzenie, czy występują braki danych\n",
        "df.isna().sum()"
      ],
      "execution_count": 5,
      "outputs": [
        {
          "output_type": "execute_result",
          "data": {
            "text/plain": [
              "City            117\n",
              "Year            117\n",
              "Sport           117\n",
              "Discipline      117\n",
              "Event           117\n",
              "Athlete         117\n",
              "Gender          117\n",
              "Country_Code    117\n",
              "Country         117\n",
              "Event_gender    117\n",
              "Medal           117\n",
              "dtype: int64"
            ]
          },
          "metadata": {
            "tags": []
          },
          "execution_count": 5
        }
      ]
    },
    {
      "cell_type": "markdown",
      "metadata": {
        "id": "lgHmVVBiaeHZ",
        "colab_type": "text"
      },
      "source": [
        "117 wierszy jest pustych"
      ]
    },
    {
      "cell_type": "code",
      "metadata": {
        "id": "TdO3w80adFHl",
        "colab_type": "code",
        "colab": {}
      },
      "source": [
        "# Usunięcie pustych wierszy\n",
        "df.dropna(how = 'all', inplace = True)"
      ],
      "execution_count": 6,
      "outputs": []
    },
    {
      "cell_type": "code",
      "metadata": {
        "id": "BMqzqKf8er9Y",
        "colab_type": "code",
        "colab": {
          "base_uri": "https://localhost:8080/",
          "height": 225
        },
        "outputId": "e47650a0-7667-401d-dfca-043467b04722"
      },
      "source": [
        "df.dtypes"
      ],
      "execution_count": 7,
      "outputs": [
        {
          "output_type": "execute_result",
          "data": {
            "text/plain": [
              "City             object\n",
              "Year            float64\n",
              "Sport            object\n",
              "Discipline       object\n",
              "Event            object\n",
              "Athlete          object\n",
              "Gender           object\n",
              "Country_Code     object\n",
              "Country          object\n",
              "Event_gender     object\n",
              "Medal            object\n",
              "dtype: object"
            ]
          },
          "metadata": {
            "tags": []
          },
          "execution_count": 7
        }
      ]
    },
    {
      "cell_type": "code",
      "metadata": {
        "id": "McG7k7NnckHh",
        "colab_type": "code",
        "colab": {}
      },
      "source": [
        "# Zmiana typu kolumny Year z float na int\n",
        "df.Year = df.Year.astype('int')"
      ],
      "execution_count": 8,
      "outputs": []
    },
    {
      "cell_type": "code",
      "metadata": {
        "id": "jaVRZZN66c98",
        "colab_type": "code",
        "colab": {}
      },
      "source": [
        "# Dodanie trzech zmiennych 0-1 wskazujących, jaki medal został zdobyty\n",
        "df['Gold'] = [1 if i == 'Gold' else 0 for i in df['Medal']]\n",
        "df['Silver'] = [1 if i == 'Silver' else 0 for i in df['Medal']]\n",
        "df['Bronze'] = [1 if i == 'Bronze' else 0 for i in df['Medal']]"
      ],
      "execution_count": 42,
      "outputs": []
    },
    {
      "cell_type": "code",
      "metadata": {
        "id": "mNF-lxXSazFz",
        "colab_type": "code",
        "colab": {
          "base_uri": "https://localhost:8080/",
          "height": 172
        },
        "outputId": "3d5db7f6-c8fc-4ceb-e238-74197f722fa7"
      },
      "source": [
        "df.describe(include= ['object'])"
      ],
      "execution_count": 9,
      "outputs": [
        {
          "output_type": "execute_result",
          "data": {
            "text/html": [
              "<div>\n",
              "<style scoped>\n",
              "    .dataframe tbody tr th:only-of-type {\n",
              "        vertical-align: middle;\n",
              "    }\n",
              "\n",
              "    .dataframe tbody tr th {\n",
              "        vertical-align: top;\n",
              "    }\n",
              "\n",
              "    .dataframe thead th {\n",
              "        text-align: right;\n",
              "    }\n",
              "</style>\n",
              "<table border=\"1\" class=\"dataframe\">\n",
              "  <thead>\n",
              "    <tr style=\"text-align: right;\">\n",
              "      <th></th>\n",
              "      <th>City</th>\n",
              "      <th>Sport</th>\n",
              "      <th>Discipline</th>\n",
              "      <th>Event</th>\n",
              "      <th>Athlete</th>\n",
              "      <th>Gender</th>\n",
              "      <th>Country_Code</th>\n",
              "      <th>Country</th>\n",
              "      <th>Event_gender</th>\n",
              "      <th>Medal</th>\n",
              "    </tr>\n",
              "  </thead>\n",
              "  <tbody>\n",
              "    <tr>\n",
              "      <th>count</th>\n",
              "      <td>15316</td>\n",
              "      <td>15316</td>\n",
              "      <td>15316</td>\n",
              "      <td>15316</td>\n",
              "      <td>15316</td>\n",
              "      <td>15316</td>\n",
              "      <td>15316</td>\n",
              "      <td>15316</td>\n",
              "      <td>15316</td>\n",
              "      <td>15316</td>\n",
              "    </tr>\n",
              "    <tr>\n",
              "      <th>unique</th>\n",
              "      <td>9</td>\n",
              "      <td>28</td>\n",
              "      <td>41</td>\n",
              "      <td>293</td>\n",
              "      <td>11337</td>\n",
              "      <td>2</td>\n",
              "      <td>128</td>\n",
              "      <td>127</td>\n",
              "      <td>3</td>\n",
              "      <td>3</td>\n",
              "    </tr>\n",
              "    <tr>\n",
              "      <th>top</th>\n",
              "      <td>Beijing</td>\n",
              "      <td>Aquatics</td>\n",
              "      <td>Athletics</td>\n",
              "      <td>hockey</td>\n",
              "      <td>PHELPS, Michael</td>\n",
              "      <td>Men</td>\n",
              "      <td>USA</td>\n",
              "      <td>United States</td>\n",
              "      <td>M</td>\n",
              "      <td>Bronze</td>\n",
              "    </tr>\n",
              "    <tr>\n",
              "      <th>freq</th>\n",
              "      <td>2042</td>\n",
              "      <td>2210</td>\n",
              "      <td>1523</td>\n",
              "      <td>817</td>\n",
              "      <td>16</td>\n",
              "      <td>9388</td>\n",
              "      <td>1992</td>\n",
              "      <td>1992</td>\n",
              "      <td>8817</td>\n",
              "      <td>5258</td>\n",
              "    </tr>\n",
              "  </tbody>\n",
              "</table>\n",
              "</div>"
            ],
            "text/plain": [
              "           City     Sport Discipline  ...        Country Event_gender   Medal\n",
              "count     15316     15316      15316  ...          15316        15316   15316\n",
              "unique        9        28         41  ...            127            3       3\n",
              "top     Beijing  Aquatics  Athletics  ...  United States            M  Bronze\n",
              "freq       2042      2210       1523  ...           1992         8817    5258\n",
              "\n",
              "[4 rows x 10 columns]"
            ]
          },
          "metadata": {
            "tags": []
          },
          "execution_count": 9
        }
      ]
    },
    {
      "cell_type": "markdown",
      "metadata": {
        "id": "qZyIP7a9bI6k",
        "colab_type": "text"
      },
      "source": [
        "Letnie zawody olimpijskie odbywały się w 9 miastach. Od 1976 do 2008 roku było 28 kategorii sportowych (oraz 41 dyscyplin w ramach kategorii). Zawodnicy pochodzili ze 127 krajów. Najczęsciej letnie zawody olimpijskie odbywały się w Beijing. Najczęściej zdobywał medale PHELPS, Michael, a w przypadku państw mieszkańcy USA."
      ]
    },
    {
      "cell_type": "code",
      "metadata": {
        "id": "fIxWUtchgWiQ",
        "colab_type": "code",
        "colab": {
          "base_uri": "https://localhost:8080/",
          "height": 52
        },
        "outputId": "03f8eaf9-1fb2-43dd-abb0-6f83f967ee88"
      },
      "source": [
        "df.City.unique()\n"
      ],
      "execution_count": 10,
      "outputs": [
        {
          "output_type": "execute_result",
          "data": {
            "text/plain": [
              "array(['Montreal', 'Moscow', 'Los Angeles', 'Seoul', 'Barcelona',\n",
              "       'Atlanta', 'Sydney', 'Athens', 'Beijing'], dtype=object)"
            ]
          },
          "metadata": {
            "tags": []
          },
          "execution_count": 10
        }
      ]
    },
    {
      "cell_type": "code",
      "metadata": {
        "id": "nIVSYQh8gbBN",
        "colab_type": "code",
        "colab": {
          "base_uri": "https://localhost:8080/",
          "height": 34
        },
        "outputId": "145b0b05-4abb-4ce8-cc46-953f66e9f307"
      },
      "source": [
        "df.Year.unique()"
      ],
      "execution_count": 11,
      "outputs": [
        {
          "output_type": "execute_result",
          "data": {
            "text/plain": [
              "array([1976, 1980, 1984, 1988, 1992, 1996, 2000, 2004, 2008])"
            ]
          },
          "metadata": {
            "tags": []
          },
          "execution_count": 11
        }
      ]
    },
    {
      "cell_type": "markdown",
      "metadata": {
        "id": "VxHsUmafi4e4",
        "colab_type": "text"
      },
      "source": [
        "Na podstawie tego, że liczba miast oraz lat, w których odbyły się zawody jest taka sama w każdej macierzy i wynosi 9, a także tego, że zawody w 1976 roku odbyły się w Montrealu, można wywnioskować, że lata w powyższej macierzy odpowiadają miastom w drugiej powyższej macierzy."
      ]
    },
    {
      "cell_type": "code",
      "metadata": {
        "id": "klrxDtKMaUzu",
        "colab_type": "code",
        "colab": {
          "base_uri": "https://localhost:8080/",
          "height": 325
        },
        "outputId": "ebb95e47-c5f3-4663-d3b6-340f754801fe"
      },
      "source": [
        "# Tabela - miasto oraz rok, w którym odbyła się letnia olimpiada\n",
        "df_City_Year = pd.DataFrame({'City':df.City.unique(), 'Year': df.Year.unique()})\n",
        "df_City_Year"
      ],
      "execution_count": 13,
      "outputs": [
        {
          "output_type": "execute_result",
          "data": {
            "text/html": [
              "<div>\n",
              "<style scoped>\n",
              "    .dataframe tbody tr th:only-of-type {\n",
              "        vertical-align: middle;\n",
              "    }\n",
              "\n",
              "    .dataframe tbody tr th {\n",
              "        vertical-align: top;\n",
              "    }\n",
              "\n",
              "    .dataframe thead th {\n",
              "        text-align: right;\n",
              "    }\n",
              "</style>\n",
              "<table border=\"1\" class=\"dataframe\">\n",
              "  <thead>\n",
              "    <tr style=\"text-align: right;\">\n",
              "      <th></th>\n",
              "      <th>City</th>\n",
              "      <th>Year</th>\n",
              "    </tr>\n",
              "  </thead>\n",
              "  <tbody>\n",
              "    <tr>\n",
              "      <th>0</th>\n",
              "      <td>Montreal</td>\n",
              "      <td>1976</td>\n",
              "    </tr>\n",
              "    <tr>\n",
              "      <th>1</th>\n",
              "      <td>Moscow</td>\n",
              "      <td>1980</td>\n",
              "    </tr>\n",
              "    <tr>\n",
              "      <th>2</th>\n",
              "      <td>Los Angeles</td>\n",
              "      <td>1984</td>\n",
              "    </tr>\n",
              "    <tr>\n",
              "      <th>3</th>\n",
              "      <td>Seoul</td>\n",
              "      <td>1988</td>\n",
              "    </tr>\n",
              "    <tr>\n",
              "      <th>4</th>\n",
              "      <td>Barcelona</td>\n",
              "      <td>1992</td>\n",
              "    </tr>\n",
              "    <tr>\n",
              "      <th>5</th>\n",
              "      <td>Atlanta</td>\n",
              "      <td>1996</td>\n",
              "    </tr>\n",
              "    <tr>\n",
              "      <th>6</th>\n",
              "      <td>Sydney</td>\n",
              "      <td>2000</td>\n",
              "    </tr>\n",
              "    <tr>\n",
              "      <th>7</th>\n",
              "      <td>Athens</td>\n",
              "      <td>2004</td>\n",
              "    </tr>\n",
              "    <tr>\n",
              "      <th>8</th>\n",
              "      <td>Beijing</td>\n",
              "      <td>2008</td>\n",
              "    </tr>\n",
              "  </tbody>\n",
              "</table>\n",
              "</div>"
            ],
            "text/plain": [
              "          City  Year\n",
              "0     Montreal  1976\n",
              "1       Moscow  1980\n",
              "2  Los Angeles  1984\n",
              "3        Seoul  1988\n",
              "4    Barcelona  1992\n",
              "5      Atlanta  1996\n",
              "6       Sydney  2000\n",
              "7       Athens  2004\n",
              "8      Beijing  2008"
            ]
          },
          "metadata": {
            "tags": []
          },
          "execution_count": 13
        }
      ]
    },
    {
      "cell_type": "code",
      "metadata": {
        "id": "XycnEGLKzsdc",
        "colab_type": "code",
        "colab": {
          "base_uri": "https://localhost:8080/",
          "height": 1000
        },
        "outputId": "79d00134-3a36-4300-f74d-4722a78c15ee"
      },
      "source": [
        "# Mapa z miastami, w których odbywały się olimpiady letnie\n",
        "\n",
        "m = folium.Map(location=[20, 0], zoom_start=2.0, width='50%', height='80%')\n",
        "\n",
        "# Add marker for Montreal\n",
        "folium.Marker(\n",
        "    location=[45.508888, -73.561668], # coordinates for the marker\n",
        "    popup='Montreal - 1976', # pop-up label for the marker\n",
        "    icon=folium.Icon()\n",
        ").add_to(m)\n",
        "\n",
        "# Add marker for Moscow\n",
        "folium.Marker(\n",
        "    location=[55.751244, 37.618423], # coordinates for the marker\n",
        "    popup='Moscow - 1980', # pop-up label for the marker\n",
        "    icon=folium.Icon()\n",
        ").add_to(m)\n",
        "\n",
        "# Add marker for Los Angeles\n",
        "folium.Marker(\n",
        "    location=[34.052235, -118.243683], # coordinates for the marker\n",
        "    popup='Los Angeles - 1984', # pop-up label for the marker\n",
        "    icon=folium.Icon()\n",
        ").add_to(m)\n",
        "\n",
        "# Add marker for Seoul\n",
        "folium.Marker(\n",
        "    location=[37.532600, 127.024612], # coordinates for the marker\n",
        "    popup='Seul - 1988', # pop-up label for the marker\n",
        "    icon=folium.Icon()\n",
        ").add_to(m)\n",
        "\n",
        "# Add marker for Barcelona\n",
        "folium.Marker(\n",
        "    location=[41.390205, 2.154007], # coordinates for the marker\n",
        "    popup='Barcelona - 1992', # pop-up label for the marker\n",
        "    icon=folium.Icon()\n",
        ").add_to(m)\n",
        "\n",
        "# Add marker for Atlanta\n",
        "folium.Marker(\n",
        "    location=[33.753746, -84.386330], # coordinates for the marker\n",
        "    popup='Atlanta - 1996', # pop-up label for the marker\n",
        "    icon=folium.Icon()\n",
        ").add_to(m)\n",
        "\n",
        "# Add marker for Sydney\n",
        "folium.Marker(\n",
        "    location=[-33.865143, 151.209900], # coordinates for the marker\n",
        "    popup='Sydney - 2000', # pop-up label for the marker\n",
        "    icon=folium.Icon()\n",
        ").add_to(m)\n",
        "\n",
        "# Add marker for Athens\n",
        "folium.Marker(\n",
        "    location=[37.983810, 23.727539], # coordinates for the marker\n",
        "    popup='Athens - 2004', # pop-up label for the marker\n",
        "    icon=folium.Icon()\n",
        ").add_to(m)\n",
        "\n",
        "# Add marker for Beijing\n",
        "folium.Marker(\n",
        "    location=[39.916668, 116.383331], # coordinates for the marker\n",
        "    popup='Beijing - 2008', # pop-up label for the marker\n",
        "    icon=folium.Icon()\n",
        ").add_to(m)\n",
        "\n",
        "# Display m\n",
        "display(m)"
      ],
      "execution_count": 16,
      "outputs": [
        {
          "output_type": "display_data",
          "data": {
            "text/html": [
              "<div style=\"width:100%;\"><div style=\"position:relative;width:100%;height:0;padding-bottom:60%;\"><span style=\"color:#565656\">Make this Notebook Trusted to load map: File -> Trust Notebook</span><iframe src=\"about:blank\" style=\"position:absolute;width:100%;height:100%;left:0;top:0;border:none !important;\" data-html=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 onload=\"this.contentDocument.open();this.contentDocument.write(atob(this.getAttribute('data-html')));this.contentDocument.close();\" allowfullscreen webkitallowfullscreen mozallowfullscreen></iframe></div></div>"
            ],
            "text/plain": [
              "<folium.folium.Map at 0x7f0e51117048>"
            ]
          },
          "metadata": {
            "tags": []
          }
        }
      ]
    },
    {
      "cell_type": "markdown",
      "metadata": {
        "id": "X8giEYrQAHbE",
        "colab_type": "text"
      },
      "source": [
        "# 3. Eksploracja danych - Polska"
      ]
    },
    {
      "cell_type": "code",
      "metadata": {
        "id": "-OUb4jCjvXQF",
        "colab_type": "code",
        "colab": {
          "base_uri": "https://localhost:8080/",
          "height": 356
        },
        "outputId": "5cbd27b9-e6dd-4a7e-edb3-13d0eaba4255"
      },
      "source": [
        "# Sprawdzenie, które kraje zdobyły najwięcej medali w latach 1976-2008\n",
        "df_countries = pd.DataFrame(df.groupby('Country').Medal.count())\n",
        "df_countries.sort_values(by = ['Medal'], ascending = False, inplace = True)\n",
        "df_countries.reset_index(inplace = True)\n",
        "df_best_countries = df_countries[:10]\n",
        "df_best_countries"
      ],
      "execution_count": 43,
      "outputs": [
        {
          "output_type": "execute_result",
          "data": {
            "text/html": [
              "<div>\n",
              "<style scoped>\n",
              "    .dataframe tbody tr th:only-of-type {\n",
              "        vertical-align: middle;\n",
              "    }\n",
              "\n",
              "    .dataframe tbody tr th {\n",
              "        vertical-align: top;\n",
              "    }\n",
              "\n",
              "    .dataframe thead th {\n",
              "        text-align: right;\n",
              "    }\n",
              "</style>\n",
              "<table border=\"1\" class=\"dataframe\">\n",
              "  <thead>\n",
              "    <tr style=\"text-align: right;\">\n",
              "      <th></th>\n",
              "      <th>Country</th>\n",
              "      <th>Medal</th>\n",
              "    </tr>\n",
              "  </thead>\n",
              "  <tbody>\n",
              "    <tr>\n",
              "      <th>0</th>\n",
              "      <td>United States</td>\n",
              "      <td>1992</td>\n",
              "    </tr>\n",
              "    <tr>\n",
              "      <th>1</th>\n",
              "      <td>Soviet Union</td>\n",
              "      <td>1021</td>\n",
              "    </tr>\n",
              "    <tr>\n",
              "      <th>2</th>\n",
              "      <td>Australia</td>\n",
              "      <td>798</td>\n",
              "    </tr>\n",
              "    <tr>\n",
              "      <th>3</th>\n",
              "      <td>Germany</td>\n",
              "      <td>691</td>\n",
              "    </tr>\n",
              "    <tr>\n",
              "      <th>4</th>\n",
              "      <td>China</td>\n",
              "      <td>679</td>\n",
              "    </tr>\n",
              "    <tr>\n",
              "      <th>5</th>\n",
              "      <td>Russia</td>\n",
              "      <td>638</td>\n",
              "    </tr>\n",
              "    <tr>\n",
              "      <th>6</th>\n",
              "      <td>East Germany</td>\n",
              "      <td>626</td>\n",
              "    </tr>\n",
              "    <tr>\n",
              "      <th>7</th>\n",
              "      <td>Italy</td>\n",
              "      <td>486</td>\n",
              "    </tr>\n",
              "    <tr>\n",
              "      <th>8</th>\n",
              "      <td>Romania</td>\n",
              "      <td>482</td>\n",
              "    </tr>\n",
              "    <tr>\n",
              "      <th>9</th>\n",
              "      <td>United Kingdom</td>\n",
              "      <td>467</td>\n",
              "    </tr>\n",
              "  </tbody>\n",
              "</table>\n",
              "</div>"
            ],
            "text/plain": [
              "          Country  Medal\n",
              "0   United States   1992\n",
              "1    Soviet Union   1021\n",
              "2       Australia    798\n",
              "3         Germany    691\n",
              "4           China    679\n",
              "5          Russia    638\n",
              "6    East Germany    626\n",
              "7           Italy    486\n",
              "8         Romania    482\n",
              "9  United Kingdom    467"
            ]
          },
          "metadata": {
            "tags": []
          },
          "execution_count": 43
        }
      ]
    },
    {
      "cell_type": "code",
      "metadata": {
        "id": "_tBwT1lfLAxf",
        "colab_type": "code",
        "colab": {
          "base_uri": "https://localhost:8080/",
          "height": 80
        },
        "outputId": "01c7498f-a2cc-42a7-a2e1-23fa1d476954"
      },
      "source": [
        "# Sprawdzenie, na którym miejscu jest Polska pod względem ilości zdobytych medali\n",
        "df_countries.loc[df_countries['Country'] == 'Poland']"
      ],
      "execution_count": 44,
      "outputs": [
        {
          "output_type": "execute_result",
          "data": {
            "text/html": [
              "<div>\n",
              "<style scoped>\n",
              "    .dataframe tbody tr th:only-of-type {\n",
              "        vertical-align: middle;\n",
              "    }\n",
              "\n",
              "    .dataframe tbody tr th {\n",
              "        vertical-align: top;\n",
              "    }\n",
              "\n",
              "    .dataframe thead th {\n",
              "        text-align: right;\n",
              "    }\n",
              "</style>\n",
              "<table border=\"1\" class=\"dataframe\">\n",
              "  <thead>\n",
              "    <tr style=\"text-align: right;\">\n",
              "      <th></th>\n",
              "      <th>Country</th>\n",
              "      <th>Medal</th>\n",
              "    </tr>\n",
              "  </thead>\n",
              "  <tbody>\n",
              "    <tr>\n",
              "      <th>21</th>\n",
              "      <td>Poland</td>\n",
              "      <td>263</td>\n",
              "    </tr>\n",
              "  </tbody>\n",
              "</table>\n",
              "</div>"
            ],
            "text/plain": [
              "   Country  Medal\n",
              "21  Poland    263"
            ]
          },
          "metadata": {
            "tags": []
          },
          "execution_count": 44
        }
      ]
    },
    {
      "cell_type": "markdown",
      "metadata": {
        "id": "Rxc78naKLdKv",
        "colab_type": "text"
      },
      "source": [
        "Polska jest na 22 miejscu pod względem ilości zdobytych medali."
      ]
    },
    {
      "cell_type": "code",
      "metadata": {
        "id": "hjlIcfrMLtf5",
        "colab_type": "code",
        "colab": {
          "base_uri": "https://localhost:8080/",
          "height": 202
        },
        "outputId": "9c0801a8-885b-4c06-b26b-bda1b8e3971f"
      },
      "source": [
        "# Sprawdzenie, jakie kraje są przed i za Polską\n",
        "df_countries.loc[19:23]"
      ],
      "execution_count": 45,
      "outputs": [
        {
          "output_type": "execute_result",
          "data": {
            "text/html": [
              "<div>\n",
              "<style scoped>\n",
              "    .dataframe tbody tr th:only-of-type {\n",
              "        vertical-align: middle;\n",
              "    }\n",
              "\n",
              "    .dataframe tbody tr th {\n",
              "        vertical-align: top;\n",
              "    }\n",
              "\n",
              "    .dataframe thead th {\n",
              "        text-align: right;\n",
              "    }\n",
              "</style>\n",
              "<table border=\"1\" class=\"dataframe\">\n",
              "  <thead>\n",
              "    <tr style=\"text-align: right;\">\n",
              "      <th></th>\n",
              "      <th>Country</th>\n",
              "      <th>Medal</th>\n",
              "    </tr>\n",
              "  </thead>\n",
              "  <tbody>\n",
              "    <tr>\n",
              "      <th>19</th>\n",
              "      <td>Canada</td>\n",
              "      <td>304</td>\n",
              "    </tr>\n",
              "    <tr>\n",
              "      <th>20</th>\n",
              "      <td>Yugoslavia</td>\n",
              "      <td>278</td>\n",
              "    </tr>\n",
              "    <tr>\n",
              "      <th>21</th>\n",
              "      <td>Poland</td>\n",
              "      <td>263</td>\n",
              "    </tr>\n",
              "    <tr>\n",
              "      <th>22</th>\n",
              "      <td>Bulgaria</td>\n",
              "      <td>247</td>\n",
              "    </tr>\n",
              "    <tr>\n",
              "      <th>23</th>\n",
              "      <td>Unified team</td>\n",
              "      <td>223</td>\n",
              "    </tr>\n",
              "  </tbody>\n",
              "</table>\n",
              "</div>"
            ],
            "text/plain": [
              "         Country  Medal\n",
              "19        Canada    304\n",
              "20    Yugoslavia    278\n",
              "21        Poland    263\n",
              "22      Bulgaria    247\n",
              "23  Unified team    223"
            ]
          },
          "metadata": {
            "tags": []
          },
          "execution_count": 45
        }
      ]
    },
    {
      "cell_type": "code",
      "metadata": {
        "id": "Ytw1c6OZTlnp",
        "colab_type": "code",
        "colab": {
          "base_uri": "https://localhost:8080/",
          "height": 561
        },
        "outputId": "28c6044f-5c07-4ce6-9be8-872fef1af467"
      },
      "source": [
        "# Porównanie liczby zdobytych medali na Olimpiadach przez Polskę i jej największych rywali\n",
        "\n",
        "# Utworzenie dataframów dla Polski i krajów o podobnych wynikach do PL pod względem ilości zdobytych medali\n",
        "df_Poland = df[df['Country'] == 'Poland']\n",
        "df_Canada = df[df['Country'] == 'Canada']\n",
        "df_Yugoslavia = df[df['Country'] == 'Yugoslavia']\n",
        "df_Bulgaria = df[df['Country'] == 'Bulgaria']\n",
        "df_Unified_team = df[df['Country'] == 'Unified team']\n",
        "\n",
        "# Policzenie, ile medali zdobyła Polska na poszczególnych olimpiadach\n",
        "df_Poland_Year = pd.DataFrame(df_Poland.groupby(['Year', 'City']).Medal.count())\n",
        "df_Poland_Year.sort_values(by=['Year'], inplace = True)\n",
        "df_Poland_Year.reset_index(inplace = True)\n",
        "df_Poland_Year\n",
        "\n",
        "# Policzenie, ile medali zdobyła Kanada na poszczególnych olimpiadach\n",
        "df_Canada_Year = pd.DataFrame(df_Canada.groupby(['Year', 'City']).Medal.count())\n",
        "df_Canada_Year.sort_values(by=['Year'], inplace = True)\n",
        "df_Canada_Year.reset_index(inplace = True)\n",
        "\n",
        "# Policzenie, ile medali zdobyła Jugosławia na poszczególnych olimpiadach\n",
        "df_Yugoslavia_Year = pd.DataFrame(df_Yugoslavia.groupby(['Year', 'City']).Medal.count())\n",
        "df_Yugoslavia_Year.sort_values(by=['Year'], inplace = True)\n",
        "df_Yugoslavia_Year.reset_index(inplace = True)\n",
        "\n",
        "# Policzenie, ile medali zdobyła Bułgaria na poszczególnych olimpiadach\n",
        "df_Bulgaria_Year = pd.DataFrame(df_Bulgaria.groupby(['Year', 'City']).Medal.count())\n",
        "df_Bulgaria_Year.sort_values(by=['Year'], inplace = True)\n",
        "df_Bulgaria_Year.reset_index(inplace = True)\n",
        "\n",
        "# Policzenie, ile medali zdobyły kraje byłej Unii Sowieckiej na poszczególnych olimpiadach\n",
        "df_Unified_team_Year = pd.DataFrame(df_Unified_team.groupby(['Year', 'City']).Medal.count())\n",
        "df_Unified_team_Year.sort_values(by=['Year'], inplace = True)\n",
        "df_Unified_team_Year.reset_index(inplace = True)\n",
        "\n",
        "# wielkość wykresu\n",
        "plt.rcParams[\"figure.figsize\"] = (12, 8) \n",
        "\n",
        "# wykres\n",
        "fig, ax = plt.subplots()\n",
        "ax.plot('Year', 'Medal', data=df_Poland_Year, color = \"red\", linewidth = 4, label = \"Polska\")\n",
        "ax.plot('Year', 'Medal', data=df_Canada_Year, color = \"blue\", label = \"Kanada\")\n",
        "ax.plot('Year', 'Medal', data=df_Yugoslavia_Year, color = \"green\", label = \"Jugosławia\")\n",
        "ax.plot('Year', 'Medal', data=df_Bulgaria_Year, color = \"orange\", label = \"Bułgaria\")\n",
        "ax.plot('Year', 'Medal', data=df_Unified_team_Year, color = \"purple\", label = \"Kraje Unii Sowieckiej\")\n",
        "\n",
        "# Dodanie tytułu wykresu i tytułu osiom\n",
        "plt.title('Porównanie liczby zdobytych medali na Olimpiadach przez Polskę i jej największych rywali', fontsize = 16)\n",
        "plt.xlabel(\"Rok Olimpiady\", fontsize = 13)\n",
        "plt.ylabel(\"Liczba zdobytych medali\", fontsize = 13)\n",
        "\n",
        "# Dodanie legendy\n",
        "ax.legend()\n",
        "ax.legend(loc='lower center', bbox_to_anchor=(0.5, -.15), ncol = 6, shadow = True, fontsize = 13)"
      ],
      "execution_count": 46,
      "outputs": [
        {
          "output_type": "execute_result",
          "data": {
            "text/plain": [
              "<matplotlib.legend.Legend at 0x7f0e4d4fea20>"
            ]
          },
          "metadata": {
            "tags": []
          },
          "execution_count": 46
        },
        {
          "output_type": "display_data",
          "data": {
            "image/png": "[encoded data removed]",
            "text/plain": [
              "<Figure size 864x576 with 1 Axes>"
            ]
          },
          "metadata": {
            "tags": [],
            "needs_background": "light"
          }
        }
      ]
    },
    {
      "cell_type": "code",
      "metadata": {
        "id": "AaFmJO5AM-OR",
        "colab_type": "code",
        "colab": {
          "base_uri": "https://localhost:8080/",
          "height": 561
        },
        "outputId": "1d1a7718-cf5c-41c3-fe71-bca1e208971d"
      },
      "source": [
        "# Porównanie liczby zdobytych medali na Olimpiadach przez Polskę i inne wybrane kraje\n",
        "\n",
        "# Utworzenie dataframów dla innych wybranych krajów\n",
        "df_USA = df[df['Country'] == 'United States']\n",
        "df_China = df[df['Country'] == 'China']\n",
        "df_Germany = df[df['Country'] == 'Germany']\n",
        "df_Italy = df[df['Country'] == 'Italy']\n",
        "df_Spain = df[df['Country'] == 'Spain']\n",
        "\n",
        "# Policzenie, ile medali zdobyłay Stany Zjednoczone na poszczególnych olimpiadach\n",
        "df_USA_Year = pd.DataFrame(df_USA.groupby(['Year', 'City']).Medal.count())\n",
        "df_USA_Year.sort_values(by=['Year'], inplace = True)\n",
        "df_USA_Year.reset_index(inplace = True)\n",
        "\n",
        "# Policzenie, ile medali zdobyły Chiny na poszczególnych olimpiadach\n",
        "df_China_Year = pd.DataFrame(df_China.groupby(['Year', 'City']).Medal.count())\n",
        "df_China_Year.sort_values(by=['Year'], inplace = True)\n",
        "df_China_Year.reset_index(inplace = True)\n",
        "\n",
        "# Policzenie, ile medali zdobyły Niemcy na poszczególnych olimpiadach\n",
        "df_Germany_Year = pd.DataFrame(df_Germany.groupby(['Year', 'City']).Medal.count())\n",
        "df_Germany_Year.sort_values(by=['Year'], inplace = True)\n",
        "df_Germany_Year.reset_index(inplace = True)\n",
        "\n",
        "# Policzenie, ile medali zdobyły Włochy na poszczególnych olimpiadach\n",
        "df_Italy_Year = pd.DataFrame(df_Italy.groupby(['Year', 'City']).Medal.count())\n",
        "df_Italy_Year.sort_values(by=['Year'], inplace = True)\n",
        "df_Italy_Year.reset_index(inplace = True)\n",
        "\n",
        "# Policzenie, ile medali zdobyła Hiszpania na poszczególnych olimpiadach\n",
        "df_Spain_Year = pd.DataFrame(df_Spain.groupby(['Year', 'City']).Medal.count())\n",
        "df_Spain_Year.sort_values(by=['Year'], inplace = True)\n",
        "df_Spain_Year.reset_index(inplace = True)\n",
        "\n",
        "# wielkość wykresu\n",
        "plt.rcParams[\"figure.figsize\"] = (12, 8) \n",
        "\n",
        "# wykres\n",
        "fig, ax = plt.subplots()\n",
        "ax.plot('Year', 'Medal', data=df_Poland_Year, color = \"red\", linewidth = 4, label = \"Polska\")\n",
        "ax.plot('Year', 'Medal', data=df_USA_Year, color = \"blue\", label = \"Stany Zjednoczone\")\n",
        "ax.plot('Year', 'Medal', data=df_China_Year, color = \"green\", label = \"Chiny\")\n",
        "ax.plot('Year', 'Medal', data=df_Germany_Year, color = \"orange\", label = \"Niemcy\")\n",
        "ax.plot('Year', 'Medal', data=df_Italy_Year, color = \"purple\", label = \"Włochy\")\n",
        "ax.plot('Year', 'Medal', data=df_Spain_Year, color = \"magenta\", label = \"Hiszpania\")\n",
        "\n",
        "# Dodanie tytułu wykresu i tytułu osiom\n",
        "plt.title('Porównanie liczby zdobytych medali na Olimpiadach przez Polskę i inne wybrane kraje', fontsize = 16)\n",
        "plt.xlabel(\"Rok Olimpiady\", fontsize = 13)\n",
        "plt.ylabel(\"Liczba zdobytych medali\", fontsize = 13)\n",
        "\n",
        "# Dodanie legendy\n",
        "ax.legend()\n",
        "ax.legend(loc='lower center', bbox_to_anchor=(0.5, -.15), ncol = 6, shadow = True, fontsize = 13)"
      ],
      "execution_count": 47,
      "outputs": [
        {
          "output_type": "execute_result",
          "data": {
            "text/plain": [
              "<matplotlib.legend.Legend at 0x7f0e50a39dd8>"
            ]
          },
          "metadata": {
            "tags": []
          },
          "execution_count": 47
        },
        {
          "output_type": "display_data",
          "data": {
            "image/png": "[encoded data removed]",
            "text/plain": [
              "<Figure size 864x576 with 1 Axes>"
            ]
          },
          "metadata": {
            "tags": [],
            "needs_background": "light"
          }
        }
      ]
    },
    {
      "cell_type": "code",
      "metadata": {
        "id": "YqX-1yzQvl2s",
        "colab_type": "code",
        "colab": {
          "base_uri": "https://localhost:8080/",
          "height": 486
        },
        "outputId": "dd8e2edf-66a9-49ce-a71f-4e630576f63a"
      },
      "source": [
        "# Udział krajów w całkowitej liczbie zdobytych medali z olimpiad letnich w latach 1976-2008\n",
        "\n",
        "# Dodanie wiersza z liczbą medali zdobytych przez PL\n",
        "df_Poland_Medals = df_countries.loc[df_countries['Country'] == 'Poland', 'Medal']\n",
        "df_best_countries = df_best_countries.append({'Country':'Polska', 'Medal': df_Poland_Medals}, ignore_index=True)\n",
        "\n",
        "# Dodanie wiersza z liczbą pozostałych medali zbotych przez kraje poza TOP 10\n",
        "Medals_all = df.Medal.count() # całkowita liczba zdobytych medali\n",
        "Medals_TOP_10 = df_best_countries['Medal'].sum() # liczba medali zdobytych przez kraje z TOP 10\n",
        "Medals_other = Medals_all - Medals_TOP_10 # liczba medali zdobyta przez pozostałe kraje (poza TOP 10)\n",
        "df_best_countries = df_best_countries.append({'Country':'Other', 'Medal':Medals_other}, ignore_index=True)\n",
        "\n",
        "colors = ['#e6f2ff', '#99ccff', '#ccccff', '#cc99ff', '#ff99ff', '#ff6699', '#ff9966', '#ff6600', '#ff5050', '#ff3000', '#ff1500', '#ff0000']\n",
        "labels = ['Stany Zjednoczone', 'Unia Sowiecka', 'Australia', 'Niemcy', 'Chiny', 'Rosja', 'Wschodnie Niemcy', 'Włochy', 'Rumunia', 'Wielka Brytania', 'Polska', 'Inne']\n",
        "           \n",
        "# Wykres kołowy\n",
        "explode = (0, 0, 0, 0, 0, 0, 0, 0, 0, 0, 0.1, 0.1)\n",
        "fig1, ax1 = plt.subplots()\n",
        "patches, texts, autotexts = ax1.pie(df_best_countries['Medal'], labels= labels, autopct='%1.1f%%', \n",
        "        shadow=True, explode = explode, colors = colors)\n",
        "\n",
        "# Zmiana wielkości czcionek\n",
        "plt.setp(autotexts, size=12)\n",
        "plt.setp(texts, size=12)\n",
        "\n",
        "# Tytuł\n",
        "plt.title(\"Udział krajów w całkowitej liczbie zdobytych medali z olimpiad letnich w latach 1976-2008\", size = 18)\n",
        "\n",
        "plt.show()"
      ],
      "execution_count": 48,
      "outputs": [
        {
          "output_type": "display_data",
          "data": {
            "image/png": "[encoded data removed]",
            "text/plain": [
              "<Figure size 864x576 with 1 Axes>"
            ]
          },
          "metadata": {
            "tags": []
          }
        }
      ]
    },
    {
      "cell_type": "code",
      "metadata": {
        "id": "Bf3Ki6x6HizC",
        "colab_type": "code",
        "colab": {
          "base_uri": "https://localhost:8080/",
          "height": 544
        },
        "outputId": "8ae0fb25-fd91-4948-b9fb-614e48d316c9"
      },
      "source": [
        "# Top 10 dyscyplin sportowych, w których Polacy zdobyli najwięcej medali\n",
        "\n",
        "# Policzenie, ile medali zdobyli Polacy w poszczególnych dyscyplinach sportowych\n",
        "df_Poland_Sport_Discipline = pd.DataFrame(df_Poland.groupby(['Discipline', 'Sport']).Medal.count())\n",
        "df_Poland_Sport_Discipline.sort_values(by=['Medal'], ascending = False, inplace = True)\n",
        "\n",
        "# wielkość wykresu\n",
        "plt.rcParams[\"figure.figsize\"] = (25, 8) \n",
        "\n",
        "# Wykres\n",
        "x = np.arange(10)\n",
        "fig, ax = plt.subplots()\n",
        "barplot = ax.bar(x, 'Medal', data = df_Poland_Sport_Discipline[:10], color = 'red')\n",
        "xlabels = ('Lekkoatletyka', 'Piłka nożna', 'Szermierka', 'Wioślarstwo', 'Kajakarstwo', 'Zapasy Gre-R', 'Boks', 'Podnoszenie ciężarów', 'Piłka ręczna', 'Siatkówka')\n",
        "plt.xticks(x, xlabels) # oznaczenia osi x\n",
        "ax.tick_params(axis='both', which='major', labelsize=14) # zmiana wielkości czcionki skali na obu osiach\n",
        "\n",
        "# Dodanie liczby zdobytych medali dla każdego słupka\n",
        "def autolabel(rects):\n",
        "    \"\"\"Attach a text label above each bar in *rects*, displaying its height.\"\"\"\n",
        "    for rect in rects:\n",
        "        height = rect.get_height()\n",
        "        ax.annotate('{}'.format(height),\n",
        "                    xy=(rect.get_x() + rect.get_width() / 2, height),\n",
        "                    xytext=(0, 3),  # 3 points vertical offset\n",
        "                    textcoords=\"offset points\",\n",
        "                    ha='center', va='bottom', size = 14)\n",
        "autolabel(barplot)\n",
        "\n",
        "# Dodanie tytułu wykresu i tytułu osiom\n",
        "plt.title('Liczba zdobytych medali przez Polaków na Olimpiadach letnich w poszczególnych dyscyplinach sportu (TOP 10)', fontsize = 18)\n",
        "plt.xlabel(\"Dyscyplina\", fontsize = 15)\n",
        "plt.ylabel(\"Liczba zdobytych medali\", fontsize = 15)"
      ],
      "execution_count": 49,
      "outputs": [
        {
          "output_type": "execute_result",
          "data": {
            "text/plain": [
              "Text(0, 0.5, 'Liczba zdobytych medali')"
            ]
          },
          "metadata": {
            "tags": []
          },
          "execution_count": 49
        },
        {
          "output_type": "display_data",
          "data": {
            "image/png": "[encoded data removed]",
            "text/plain": [
              "<Figure size 1800x576 with 1 Axes>"
            ]
          },
          "metadata": {
            "tags": [],
            "needs_background": "light"
          }
        }
      ]
    },
    {
      "cell_type": "markdown",
      "metadata": {
        "id": "z5cZgRf0TDEY",
        "colab_type": "text"
      },
      "source": [
        "Zobaczmy, jak Polacy wypadali na poszczególnych Olimpiadach."
      ]
    },
    {
      "cell_type": "code",
      "metadata": {
        "id": "Eqw4qjqQFJZR",
        "colab_type": "code",
        "colab": {
          "base_uri": "https://localhost:8080/",
          "height": 294
        },
        "outputId": "f9e919a9-be47-4a80-c704-9c71c6bc0dbf"
      },
      "source": [
        "# Liczba poszczególnych medali zdobyta przez Polaków w kolejnych Olimpiadach\n",
        "df_Poland_Medals = df_Poland[['Year', 'City', 'Gold', 'Silver', 'Bronze']]\n",
        "df_Poland_Year_type = pd.DataFrame(df_Poland_Medals.groupby(['Year', 'City']).sum())\n",
        "df_Poland_Year_type.sort_values(by=['Year'], inplace = True)\n",
        "df_Poland_Year_type.reset_index(inplace = True)\n",
        "df_Poland_Year_type\n",
        "\n",
        "# Liczba poszczególnych medali i medali łącznie zdobyta przez Polaków w kolejnych Olimpiadach\n",
        "df_Poland_Medals_final = pd.merge(df_Poland_Year_type, df_Poland_Year)\n",
        "df_Poland_Medals_final"
      ],
      "execution_count": 50,
      "outputs": [
        {
          "output_type": "execute_result",
          "data": {
            "text/html": [
              "<div>\n",
              "<style scoped>\n",
              "    .dataframe tbody tr th:only-of-type {\n",
              "        vertical-align: middle;\n",
              "    }\n",
              "\n",
              "    .dataframe tbody tr th {\n",
              "        vertical-align: top;\n",
              "    }\n",
              "\n",
              "    .dataframe thead th {\n",
              "        text-align: right;\n",
              "    }\n",
              "</style>\n",
              "<table border=\"1\" class=\"dataframe\">\n",
              "  <thead>\n",
              "    <tr style=\"text-align: right;\">\n",
              "      <th></th>\n",
              "      <th>Year</th>\n",
              "      <th>City</th>\n",
              "      <th>Gold</th>\n",
              "      <th>Silver</th>\n",
              "      <th>Bronze</th>\n",
              "      <th>Medal</th>\n",
              "    </tr>\n",
              "  </thead>\n",
              "  <tbody>\n",
              "    <tr>\n",
              "      <th>0</th>\n",
              "      <td>1976</td>\n",
              "      <td>Montreal</td>\n",
              "      <td>18</td>\n",
              "      <td>29</td>\n",
              "      <td>26</td>\n",
              "      <td>73</td>\n",
              "    </tr>\n",
              "    <tr>\n",
              "      <th>1</th>\n",
              "      <td>1980</td>\n",
              "      <td>Moscow</td>\n",
              "      <td>3</td>\n",
              "      <td>25</td>\n",
              "      <td>22</td>\n",
              "      <td>50</td>\n",
              "    </tr>\n",
              "    <tr>\n",
              "      <th>2</th>\n",
              "      <td>1988</td>\n",
              "      <td>Seoul</td>\n",
              "      <td>2</td>\n",
              "      <td>9</td>\n",
              "      <td>10</td>\n",
              "      <td>21</td>\n",
              "    </tr>\n",
              "    <tr>\n",
              "      <th>3</th>\n",
              "      <td>1992</td>\n",
              "      <td>Barcelona</td>\n",
              "      <td>5</td>\n",
              "      <td>18</td>\n",
              "      <td>19</td>\n",
              "      <td>42</td>\n",
              "    </tr>\n",
              "    <tr>\n",
              "      <th>4</th>\n",
              "      <td>1996</td>\n",
              "      <td>Atlanta</td>\n",
              "      <td>7</td>\n",
              "      <td>7</td>\n",
              "      <td>7</td>\n",
              "      <td>21</td>\n",
              "    </tr>\n",
              "    <tr>\n",
              "      <th>5</th>\n",
              "      <td>2000</td>\n",
              "      <td>Sydney</td>\n",
              "      <td>7</td>\n",
              "      <td>10</td>\n",
              "      <td>7</td>\n",
              "      <td>24</td>\n",
              "    </tr>\n",
              "    <tr>\n",
              "      <th>6</th>\n",
              "      <td>2004</td>\n",
              "      <td>Athens</td>\n",
              "      <td>4</td>\n",
              "      <td>2</td>\n",
              "      <td>6</td>\n",
              "      <td>12</td>\n",
              "    </tr>\n",
              "    <tr>\n",
              "      <th>7</th>\n",
              "      <td>2008</td>\n",
              "      <td>Beijing</td>\n",
              "      <td>6</td>\n",
              "      <td>13</td>\n",
              "      <td>1</td>\n",
              "      <td>20</td>\n",
              "    </tr>\n",
              "  </tbody>\n",
              "</table>\n",
              "</div>"
            ],
            "text/plain": [
              "   Year       City  Gold  Silver  Bronze  Medal\n",
              "0  1976   Montreal    18      29      26     73\n",
              "1  1980     Moscow     3      25      22     50\n",
              "2  1988      Seoul     2       9      10     21\n",
              "3  1992  Barcelona     5      18      19     42\n",
              "4  1996    Atlanta     7       7       7     21\n",
              "5  2000     Sydney     7      10       7     24\n",
              "6  2004     Athens     4       2       6     12\n",
              "7  2008    Beijing     6      13       1     20"
            ]
          },
          "metadata": {
            "tags": []
          },
          "execution_count": 50
        }
      ]
    },
    {
      "cell_type": "code",
      "metadata": {
        "id": "yrbtF32PKMk0",
        "colab_type": "code",
        "colab": {
          "base_uri": "https://localhost:8080/",
          "height": 584
        },
        "outputId": "9e676cab-4214-4e83-b2ee-a7f447c614f0"
      },
      "source": [
        "# Liczba zdobytych medali przez Polskę na Olimpiadach Letnich w latach 1976-2008\n",
        "\n",
        "# Wielkość wykresu\n",
        "plt.rcParams[\"figure.figsize\"] = (30, 8)\n",
        "\n",
        "# Wykres\n",
        "ind = np.arange(len(df_Poland_Medals_final))  # the x locations for the groups\n",
        "width = 0.20  # the width of the bars\n",
        "fig, ax = plt.subplots()\n",
        "rects1 = ax.bar(ind - 1.5*width, df_Poland_Medals_final['Gold'], width,\n",
        "                color='Orange', label='Złoto')\n",
        "rects2 = ax.bar(ind - 0.5*width, df_Poland_Medals_final['Silver'], width,\n",
        "                color='Silver', label='Srebro')\n",
        "rects3 = ax.bar(ind + 0.5*width, df_Poland_Medals_final['Bronze'], width,\n",
        "                color='Peru', label='Brąz')\n",
        "rects4 = ax.bar(ind + 1.5*width, df_Poland_Medals_final['Medal'], width,\n",
        "                color='dimgray', label='Wszystkie')\n",
        "\n",
        "# Dodanie liczby zdobytych medali dla każdego słupka\n",
        "def autolabel(rects):\n",
        "    \"\"\"Attach a text label above each bar in *rects*, displaying its height.\"\"\"\n",
        "    for rect in rects:\n",
        "        height = rect.get_height()\n",
        "        ax.annotate('{}'.format(height),\n",
        "                    xy=(rect.get_x() + rect.get_width() / 2, height),\n",
        "                    xytext=(0, 3),  # 3 points vertical offset\n",
        "                    textcoords=\"offset points\",\n",
        "                    ha='center', va='bottom', size = 14)\n",
        "autolabel(rects1)\n",
        "autolabel(rects2)\n",
        "autolabel(rects3)\n",
        "autolabel(rects4)\n",
        "\n",
        "# Oznaczenia osi x\n",
        "x = np.arange(8)\n",
        "xlabels = ('Montreal - 1976', 'Moskwa - 1980', 'Seul - 1988', 'Barcelona - 1992', 'Atlanta - 1996', 'Sydney - 2000', 'Ateny - 2004', 'Beijing - 2008')\n",
        "plt.xticks(x, xlabels)\n",
        "\n",
        "# Wielkość czcionki dla skali na obu osiach\n",
        "ax.tick_params(axis='both', which='major', labelsize=14)\n",
        "\n",
        "# Dodanie tytułu wykresu i tytułu osiom\n",
        "plt.title('Liczba zdobytych medali przez Polskę na Olimpiadach Letnich w latach 1976-2008', fontsize = 18)\n",
        "plt.xlabel(\"Olimpiada\", fontsize = 15)\n",
        "plt.ylabel(\"Liczba zdobytych medali\", fontsize = 15)\n",
        "\n",
        "# Dodanie legendy\n",
        "ax.legend()\n",
        "ax.legend(loc='lower center', bbox_to_anchor=(0.5, -.2), ncol = 8, shadow = True, fontsize = 14)"
      ],
      "execution_count": 52,
      "outputs": [
        {
          "output_type": "execute_result",
          "data": {
            "text/plain": [
              "<matplotlib.legend.Legend at 0x7f0e4d7ca080>"
            ]
          },
          "metadata": {
            "tags": []
          },
          "execution_count": 52
        },
        {
          "output_type": "display_data",
          "data": {
            "image/png": "[encoded data removed]",
            "text/plain": [
              "<Figure size 2160x576 with 1 Axes>"
            ]
          },
          "metadata": {
            "tags": [],
            "needs_background": "light"
          }
        }
      ]
    },
    {
      "cell_type": "markdown",
      "metadata": {
        "id": "X6uYfX6QVxKK",
        "colab_type": "text"
      },
      "source": [
        "Polacy nie brali udział w Olimpiadzie w 1984 roku w Los Angeles (stąd brak medali w tym roku)."
      ]
    },
    {
      "cell_type": "markdown",
      "metadata": {
        "id": "B44icW1Ww1xI",
        "colab_type": "text"
      },
      "source": [
        "Zobaczmy teraz, kto z Polaków zdobył najwięcej medali."
      ]
    },
    {
      "cell_type": "code",
      "metadata": {
        "id": "VwmYa20Cs7tq",
        "colab_type": "code",
        "colab": {
          "base_uri": "https://localhost:8080/",
          "height": 202
        },
        "outputId": "9a09b912-bc32-4699-e1ca-0e6c2bf59563"
      },
      "source": [
        "# TOP 5 najlepszych Polaków pod względem ilości zdobytych medali\n",
        "df_Poland_Athlete =  pd.DataFrame(df_Poland.groupby(['Athlete']).Medal.count())\n",
        "df_Poland_Athlete.sort_values(by=['Medal'], ascending = False, inplace = True)\n",
        "df_Poland_Athlete.reset_index(inplace = True)\n",
        "df_Poland_Athlete = df_Poland_Athlete.rename({'Medal': 'Medal_count'}, axis = 'columns')\n",
        "df_Poland_Athlete[:5]"
      ],
      "execution_count": 16,
      "outputs": [
        {
          "output_type": "execute_result",
          "data": {
            "text/html": [
              "<div>\n",
              "<style scoped>\n",
              "    .dataframe tbody tr th:only-of-type {\n",
              "        vertical-align: middle;\n",
              "    }\n",
              "\n",
              "    .dataframe tbody tr th {\n",
              "        vertical-align: top;\n",
              "    }\n",
              "\n",
              "    .dataframe thead th {\n",
              "        text-align: right;\n",
              "    }\n",
              "</style>\n",
              "<table border=\"1\" class=\"dataframe\">\n",
              "  <thead>\n",
              "    <tr style=\"text-align: right;\">\n",
              "      <th></th>\n",
              "      <th>Athlete</th>\n",
              "      <th>Medal_count</th>\n",
              "    </tr>\n",
              "  </thead>\n",
              "  <tbody>\n",
              "    <tr>\n",
              "      <th>0</th>\n",
              "      <td>KORZENIOWSKI, Robert</td>\n",
              "      <td>4</td>\n",
              "    </tr>\n",
              "    <tr>\n",
              "      <th>1</th>\n",
              "      <td>TRACZ, Jozef</td>\n",
              "      <td>3</td>\n",
              "    </tr>\n",
              "    <tr>\n",
              "      <th>2</th>\n",
              "      <td>MAUER, Renata</td>\n",
              "      <td>3</td>\n",
              "    </tr>\n",
              "    <tr>\n",
              "      <th>3</th>\n",
              "      <td>JEDRZEJCZAK, Otylia</td>\n",
              "      <td>3</td>\n",
              "    </tr>\n",
              "    <tr>\n",
              "      <th>4</th>\n",
              "      <td>KOWALCZYK, Jan</td>\n",
              "      <td>2</td>\n",
              "    </tr>\n",
              "  </tbody>\n",
              "</table>\n",
              "</div>"
            ],
            "text/plain": [
              "                Athlete  Medal_count\n",
              "0  KORZENIOWSKI, Robert            4\n",
              "1          TRACZ, Jozef            3\n",
              "2         MAUER, Renata            3\n",
              "3   JEDRZEJCZAK, Otylia            3\n",
              "4        KOWALCZYK, Jan            2"
            ]
          },
          "metadata": {
            "tags": []
          },
          "execution_count": 16
        }
      ]
    },
    {
      "cell_type": "markdown",
      "metadata": {
        "id": "SEPg0Tr4xAE1",
        "colab_type": "text"
      },
      "source": [
        "Przyjrzyjmy się bliżej tym sportowcom."
      ]
    },
    {
      "cell_type": "code",
      "metadata": {
        "id": "IGWuipOfiBpH",
        "colab_type": "code",
        "colab": {
          "base_uri": "https://localhost:8080/",
          "height": 509
        },
        "outputId": "4dc37f2e-a173-48de-fd74-376559c24905"
      },
      "source": [
        "# TOP 5 sportowców - analiza danych\n",
        "df_Poland_Masters = df_Poland.loc[df_Poland['Athlete'].isin(['KORZENIOWSKI, Robert', 'TRACZ, Jozef', 'MAUER, Renata', 'JEDRZEJCZAK, Otylia', 'KOWALCZYK, Jan']), \\\n",
        "              ['Athlete', 'Sport', 'Discipline', 'Event', 'Medal', 'City', 'Year']]\n",
        "df_Poland_Masters.sort_values(by = ['Athlete'], inplace = True)\n",
        "pd.merge(df_Poland_Athlete, df_Poland_Masters, on = 'Athlete')"
      ],
      "execution_count": 17,
      "outputs": [
        {
          "output_type": "execute_result",
          "data": {
            "text/html": [
              "<div>\n",
              "<style scoped>\n",
              "    .dataframe tbody tr th:only-of-type {\n",
              "        vertical-align: middle;\n",
              "    }\n",
              "\n",
              "    .dataframe tbody tr th {\n",
              "        vertical-align: top;\n",
              "    }\n",
              "\n",
              "    .dataframe thead th {\n",
              "        text-align: right;\n",
              "    }\n",
              "</style>\n",
              "<table border=\"1\" class=\"dataframe\">\n",
              "  <thead>\n",
              "    <tr style=\"text-align: right;\">\n",
              "      <th></th>\n",
              "      <th>Athlete</th>\n",
              "      <th>Medal_count</th>\n",
              "      <th>Sport</th>\n",
              "      <th>Discipline</th>\n",
              "      <th>Event</th>\n",
              "      <th>Medal</th>\n",
              "      <th>City</th>\n",
              "      <th>Year</th>\n",
              "    </tr>\n",
              "  </thead>\n",
              "  <tbody>\n",
              "    <tr>\n",
              "      <th>0</th>\n",
              "      <td>KORZENIOWSKI, Robert</td>\n",
              "      <td>4</td>\n",
              "      <td>Athletics</td>\n",
              "      <td>Athletics</td>\n",
              "      <td>50km walk</td>\n",
              "      <td>Gold</td>\n",
              "      <td>Atlanta</td>\n",
              "      <td>1996</td>\n",
              "    </tr>\n",
              "    <tr>\n",
              "      <th>1</th>\n",
              "      <td>KORZENIOWSKI, Robert</td>\n",
              "      <td>4</td>\n",
              "      <td>Athletics</td>\n",
              "      <td>Athletics</td>\n",
              "      <td>20km walk</td>\n",
              "      <td>Gold</td>\n",
              "      <td>Sydney</td>\n",
              "      <td>2000</td>\n",
              "    </tr>\n",
              "    <tr>\n",
              "      <th>2</th>\n",
              "      <td>KORZENIOWSKI, Robert</td>\n",
              "      <td>4</td>\n",
              "      <td>Athletics</td>\n",
              "      <td>Athletics</td>\n",
              "      <td>50km walk</td>\n",
              "      <td>Gold</td>\n",
              "      <td>Sydney</td>\n",
              "      <td>2000</td>\n",
              "    </tr>\n",
              "    <tr>\n",
              "      <th>3</th>\n",
              "      <td>KORZENIOWSKI, Robert</td>\n",
              "      <td>4</td>\n",
              "      <td>Athletics</td>\n",
              "      <td>Athletics</td>\n",
              "      <td>50km walk</td>\n",
              "      <td>Gold</td>\n",
              "      <td>Athens</td>\n",
              "      <td>2004</td>\n",
              "    </tr>\n",
              "    <tr>\n",
              "      <th>4</th>\n",
              "      <td>TRACZ, Jozef</td>\n",
              "      <td>3</td>\n",
              "      <td>Wrestling</td>\n",
              "      <td>Wrestling Gre-R</td>\n",
              "      <td>68 - 74kg (welterweight)</td>\n",
              "      <td>Bronze</td>\n",
              "      <td>Seoul</td>\n",
              "      <td>1988</td>\n",
              "    </tr>\n",
              "    <tr>\n",
              "      <th>5</th>\n",
              "      <td>TRACZ, Jozef</td>\n",
              "      <td>3</td>\n",
              "      <td>Wrestling</td>\n",
              "      <td>Wrestling Gre-R</td>\n",
              "      <td>68 - 74kg (welterweight)</td>\n",
              "      <td>Silver</td>\n",
              "      <td>Barcelona</td>\n",
              "      <td>1992</td>\n",
              "    </tr>\n",
              "    <tr>\n",
              "      <th>6</th>\n",
              "      <td>TRACZ, Jozef</td>\n",
              "      <td>3</td>\n",
              "      <td>Wrestling</td>\n",
              "      <td>Wrestling Gre-R</td>\n",
              "      <td>68 - 74kg (welterweight)</td>\n",
              "      <td>Bronze</td>\n",
              "      <td>Atlanta</td>\n",
              "      <td>1996</td>\n",
              "    </tr>\n",
              "    <tr>\n",
              "      <th>7</th>\n",
              "      <td>MAUER, Renata</td>\n",
              "      <td>3</td>\n",
              "      <td>Shooting</td>\n",
              "      <td>Shooting</td>\n",
              "      <td>50m rifle 3 positions (3x20 shots)</td>\n",
              "      <td>Bronze</td>\n",
              "      <td>Atlanta</td>\n",
              "      <td>1996</td>\n",
              "    </tr>\n",
              "    <tr>\n",
              "      <th>8</th>\n",
              "      <td>MAUER, Renata</td>\n",
              "      <td>3</td>\n",
              "      <td>Shooting</td>\n",
              "      <td>Shooting</td>\n",
              "      <td>10m air rifle (40 shots)</td>\n",
              "      <td>Gold</td>\n",
              "      <td>Atlanta</td>\n",
              "      <td>1996</td>\n",
              "    </tr>\n",
              "    <tr>\n",
              "      <th>9</th>\n",
              "      <td>MAUER, Renata</td>\n",
              "      <td>3</td>\n",
              "      <td>Shooting</td>\n",
              "      <td>Shooting</td>\n",
              "      <td>50m rifle 3 positions (3x20 shots)</td>\n",
              "      <td>Gold</td>\n",
              "      <td>Sydney</td>\n",
              "      <td>2000</td>\n",
              "    </tr>\n",
              "    <tr>\n",
              "      <th>10</th>\n",
              "      <td>JEDRZEJCZAK, Otylia</td>\n",
              "      <td>3</td>\n",
              "      <td>Aquatics</td>\n",
              "      <td>Swimming</td>\n",
              "      <td>100m butterfly</td>\n",
              "      <td>Silver</td>\n",
              "      <td>Athens</td>\n",
              "      <td>2004</td>\n",
              "    </tr>\n",
              "    <tr>\n",
              "      <th>11</th>\n",
              "      <td>JEDRZEJCZAK, Otylia</td>\n",
              "      <td>3</td>\n",
              "      <td>Aquatics</td>\n",
              "      <td>Swimming</td>\n",
              "      <td>200m butterfly</td>\n",
              "      <td>Gold</td>\n",
              "      <td>Athens</td>\n",
              "      <td>2004</td>\n",
              "    </tr>\n",
              "    <tr>\n",
              "      <th>12</th>\n",
              "      <td>JEDRZEJCZAK, Otylia</td>\n",
              "      <td>3</td>\n",
              "      <td>Aquatics</td>\n",
              "      <td>Swimming</td>\n",
              "      <td>400m freestyle</td>\n",
              "      <td>Silver</td>\n",
              "      <td>Athens</td>\n",
              "      <td>2004</td>\n",
              "    </tr>\n",
              "    <tr>\n",
              "      <th>13</th>\n",
              "      <td>KOWALCZYK, Jan</td>\n",
              "      <td>2</td>\n",
              "      <td>Equestrian</td>\n",
              "      <td>Jumping</td>\n",
              "      <td>team</td>\n",
              "      <td>Silver</td>\n",
              "      <td>Moscow</td>\n",
              "      <td>1980</td>\n",
              "    </tr>\n",
              "    <tr>\n",
              "      <th>14</th>\n",
              "      <td>KOWALCZYK, Jan</td>\n",
              "      <td>2</td>\n",
              "      <td>Equestrian</td>\n",
              "      <td>Jumping</td>\n",
              "      <td>individual</td>\n",
              "      <td>Gold</td>\n",
              "      <td>Moscow</td>\n",
              "      <td>1980</td>\n",
              "    </tr>\n",
              "  </tbody>\n",
              "</table>\n",
              "</div>"
            ],
            "text/plain": [
              "                 Athlete  Medal_count       Sport  ...   Medal       City  Year\n",
              "0   KORZENIOWSKI, Robert            4   Athletics  ...    Gold    Atlanta  1996\n",
              "1   KORZENIOWSKI, Robert            4   Athletics  ...    Gold     Sydney  2000\n",
              "2   KORZENIOWSKI, Robert            4   Athletics  ...    Gold     Sydney  2000\n",
              "3   KORZENIOWSKI, Robert            4   Athletics  ...    Gold     Athens  2004\n",
              "4           TRACZ, Jozef            3   Wrestling  ...  Bronze      Seoul  1988\n",
              "5           TRACZ, Jozef            3   Wrestling  ...  Silver  Barcelona  1992\n",
              "6           TRACZ, Jozef            3   Wrestling  ...  Bronze    Atlanta  1996\n",
              "7          MAUER, Renata            3    Shooting  ...  Bronze    Atlanta  1996\n",
              "8          MAUER, Renata            3    Shooting  ...    Gold    Atlanta  1996\n",
              "9          MAUER, Renata            3    Shooting  ...    Gold     Sydney  2000\n",
              "10   JEDRZEJCZAK, Otylia            3    Aquatics  ...  Silver     Athens  2004\n",
              "11   JEDRZEJCZAK, Otylia            3    Aquatics  ...    Gold     Athens  2004\n",
              "12   JEDRZEJCZAK, Otylia            3    Aquatics  ...  Silver     Athens  2004\n",
              "13        KOWALCZYK, Jan            2  Equestrian  ...  Silver     Moscow  1980\n",
              "14        KOWALCZYK, Jan            2  Equestrian  ...    Gold     Moscow  1980\n",
              "\n",
              "[15 rows x 8 columns]"
            ]
          },
          "metadata": {
            "tags": []
          },
          "execution_count": 17
        }
      ]
    },
    {
      "cell_type": "markdown",
      "metadata": {
        "id": "6Si0Hx6VxRq2",
        "colab_type": "text"
      },
      "source": [
        "Najwięcej medali zdobył **Robert Korzeniowski** (4 medale, w tym wszystkie złote!). Robert Korzeniowski zdobył 3 złote medale w chodzie na 50 km i jeden złoty medal w chodzie na 20 km. Dwa złote medale przywiózł z Olimpiady w Sydney w 2000 roku (chód na 20 km i chód na 50 km).\n",
        "\n",
        "3 medale zdobył **Józef Tracz** w zapasach w wadze półśredniej. Zdobył on jeden srebrny medal w Barcelonie w 1992 roku i dwa brązowe medale w Seulu w 1988 roku i w Atlancie w 1996 roku.\n",
        "\n",
        "Również trzy medale zdobyła **Renata Mauer** w strzelaniu. Przywiozła ona złoty i brązowy medal z olimpiady w Atlancie w 1996 roku i jeden złoty z olimpiady w Sydney w 2000 roku.\n",
        "\n",
        "Polska pływaczka, **Otylia Jędrzejczak**, również poszczyciła się trzema złotymi medalami. Wszystkie przywiozła z olimpiady w Atenach w 2004 roku. Przywiozła 1 złoty medal za 200 metrów stylem motylkowym i dwa srebrne medale za 400 metrów stylem dowolnym i 100 metrów stylem motylkowym.\n",
        "\n",
        "Ostatnim sportowcem z polskiego TOP 5 jest **Jan Kowalczyk**, który zdobył dwa medale w skokach przez przeszkody. Przywiózł dwa medale z olimpiady w Moskwie w 1980 roku. Złoty medal zdobył sam, a srebrny w zespole."
      ]
    }
  ]
}